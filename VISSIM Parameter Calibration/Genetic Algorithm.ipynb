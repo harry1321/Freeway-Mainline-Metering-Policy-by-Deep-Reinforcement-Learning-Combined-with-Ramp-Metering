{
 "cells": [
  {
   "cell_type": "markdown",
   "metadata": {},
   "source": [
    "# Genetic Algorithm"
   ]
  },
  {
   "cell_type": "code",
   "execution_count": null,
   "metadata": {},
   "outputs": [],
   "source": [
    "import pandas as pd\n",
    "import numpy as np\n",
    "import seaborn as sns\n",
    "import matplotlib.pyplot as plt\n",
    "\n",
    "#Vissim\n",
    "import win32com.client as com\n",
    "import os\n",
    "\n",
    "#GA\n",
    "import random\n",
    "import csv\n",
    "\n",
    "from deap import base, creator, tools\n",
    "toolbox = base.Toolbox()\n",
    "\n",
    "#plot\n",
    "%matplotlib inline\n",
    "import matplotlib.pyplot as plt\n",
    "import matplotlib.colors"
   ]
  },
  {
   "cell_type": "markdown",
   "metadata": {},
   "source": [
    "# Functions Setup"
   ]
  },
  {
   "cell_type": "code",
   "execution_count": null,
   "metadata": {},
   "outputs": [],
   "source": [
    "#設定ga起始解\n",
    "def load_individuals(creator,param):\n",
    "    individuals = []\n",
    "    for i in range(len(param)):\n",
    "        individual = param[i]\n",
    "        individual = creator(individual)# <= transform list to Individual, Individual was defined in the previous one, and passed by parameter\n",
    "        individuals.append(individual)\n",
    "    return individuals"
   ]
  },
  {
   "cell_type": "code",
   "execution_count": null,
   "metadata": {},
   "outputs": [],
   "source": [
    "#突變方式\n",
    "def mutUniform(individual, U, L, indpb):\n",
    "    size = len(individual)\n",
    "    for i in range(size):\n",
    "        #individual[i] = random.uniform(U[i], L[i])\n",
    "        if random.random() < indpb:\n",
    "            individual[i] = round(random.uniform(U[i], L[i]),2)\n",
    "    return individual,"
   ]
  },
  {
   "cell_type": "code",
   "execution_count": null,
   "metadata": {},
   "outputs": [],
   "source": [
    "#評估參數績效，以VISSIM模擬後輸出績效\n",
    "def evaluate(individual,pop,fitnesses):\n",
    "    if individual not in pop:\n",
    "        #reset driving behavior\n",
    "        reset_driving_behavior(individual)\n",
    "\n",
    "        #run simulation\n",
    "        # Activate QuickMode:\n",
    "        Vissim.Graphics.CurrentNetworkWindow.SetAttValue(\"QuickMode\",1)\n",
    "        Vissim.Simulation.RunContinuous()\n",
    "\n",
    "        #save mape value\n",
    "        F = pd.read_csv(r\"C:\\Users\\hyang\\Desktop\\HYANG\\vissim com\\test\\new20201107fcal.csv\")\n",
    "        S = pd.read_csv(r\"C:\\Users\\hyang\\Desktop\\HYANG\\vissim com\\test\\new20201107scal.csv\")\n",
    "        f, s = load_vissim_data()\n",
    "        f.columns = F.columns\n",
    "        s.columns = S.columns\n",
    "        F_mean = round(mape(F.iloc[:,0:20],f.iloc[:,0:20]).mean(),4)*100\n",
    "        S_mean = round(mape(S.iloc[:,0:20],s.iloc[:,0:20]).mean(),4)*100\n",
    "        return S_mean,\n",
    "    else:\n",
    "        idx = pop.index(individual)\n",
    "        return fits[idx],"
   ]
  },
  {
   "cell_type": "code",
   "execution_count": null,
   "metadata": {},
   "outputs": [],
   "source": [
    "#設定VISSIM路網中路段駕駛行為參數，需自行調整路段編碼\n",
    "def reset_driving_behavior(ind):\n",
    "    #路段編碼\n",
    "    section = {'front':[102,20002],'mid':[103,20003],'end':[104,20004]}\n",
    "    #欲調整參數名稱\n",
    "    pname = [\"W99cc0\",\"W99cc1Distr\",\"W99cc2\",\"W99cc7\"]\n",
    "    for pn in range(len(pname)):\n",
    "        if pn == 0 :\n",
    "            Vissim.Net.Links.ItemByKey(section['front'][0]).LinkBehavType.DrivBehavDef.SetAttValue(pname[pn],ind[pn])\n",
    "            Vissim.Net.Links.ItemByKey(section['front'][1]).LinkBehavType.DrivBehavDef.SetAttValue(pname[pn],ind[pn])\n",
    "            Vissim.Net.Links.ItemByKey(section['mid'][0]).LinkBehavType.DrivBehavDef.SetAttValue(pname[pn],ind[pn+4])\n",
    "            Vissim.Net.Links.ItemByKey(section['mid'][1]).LinkBehavType.DrivBehavDef.SetAttValue(pname[pn],ind[pn+4])\n",
    "            Vissim.Net.Links.ItemByKey(section['end'][0]).LinkBehavType.DrivBehavDef.SetAttValue(pname[pn],ind[pn+8])\n",
    "            Vissim.Net.Links.ItemByKey(section['end'][1]).LinkBehavType.DrivBehavDef.SetAttValue(pname[pn],ind[pn+8])\n",
    "        elif pn == 1:\n",
    "            Vissim.Net.Links.ItemByKey(section['front'][0]).LinkBehavType.DrivBehavDef.W99cc1Distr.SetAttValue(\"Mean\",ind[pn])\n",
    "            Vissim.Net.Links.ItemByKey(section['front'][1]).LinkBehavType.DrivBehavDef.W99cc1Distr.SetAttValue(\"Mean\",ind[pn])\n",
    "            Vissim.Net.Links.ItemByKey(section['mid'][0]).LinkBehavType.DrivBehavDef.W99cc1Distr.SetAttValue(\"Mean\",ind[pn+4])\n",
    "            Vissim.Net.Links.ItemByKey(section['mid'][1]).LinkBehavType.DrivBehavDef.W99cc1Distr.SetAttValue(\"Mean\",ind[pn+4])\n",
    "            Vissim.Net.Links.ItemByKey(section['end'][0]).LinkBehavType.DrivBehavDef.W99cc1Distr.SetAttValue(\"Mean\",ind[pn+8])\n",
    "            Vissim.Net.Links.ItemByKey(section['end'][1]).LinkBehavType.DrivBehavDef.W99cc1Distr.SetAttValue(\"Mean\",ind[pn+8])\n",
    "        elif pn == 2 :\n",
    "            Vissim.Net.Links.ItemByKey(section['front'][0]).LinkBehavType.DrivBehavDef.SetAttValue(pname[pn],ind[pn])\n",
    "            Vissim.Net.Links.ItemByKey(section['front'][1]).LinkBehavType.DrivBehavDef.SetAttValue(pname[pn],ind[pn])\n",
    "            Vissim.Net.Links.ItemByKey(section['mid'][0]).LinkBehavType.DrivBehavDef.SetAttValue(pname[pn],ind[pn+4])\n",
    "            Vissim.Net.Links.ItemByKey(section['mid'][1]).LinkBehavType.DrivBehavDef.SetAttValue(pname[pn],ind[pn+4])\n",
    "            Vissim.Net.Links.ItemByKey(section['end'][0]).LinkBehavType.DrivBehavDef.SetAttValue(pname[pn],ind[pn+8])\n",
    "            Vissim.Net.Links.ItemByKey(section['end'][0]).LinkBehavType.DrivBehavDef.SetAttValue(pname[pn],ind[pn+8])\n",
    "        elif pn == 3 :\n",
    "            Vissim.Net.Links.ItemByKey(section['front'][0]).LinkBehavType.DrivBehavDef.SetAttValue(pname[pn],ind[pn])\n",
    "            Vissim.Net.Links.ItemByKey(section['front'][1]).LinkBehavType.DrivBehavDef.SetAttValue(pname[pn],ind[pn])\n",
    "            Vissim.Net.Links.ItemByKey(section['mid'][0]).LinkBehavType.DrivBehavDef.SetAttValue(pname[pn],ind[pn+4])\n",
    "            Vissim.Net.Links.ItemByKey(section['mid'][1]).LinkBehavType.DrivBehavDef.SetAttValue(pname[pn],ind[pn+4])\n",
    "            Vissim.Net.Links.ItemByKey(section['end'][0]).LinkBehavType.DrivBehavDef.SetAttValue(pname[pn],ind[pn+8])\n",
    "            Vissim.Net.Links.ItemByKey(section['end'][0]).LinkBehavType.DrivBehavDef.SetAttValue(pname[pn],ind[pn+8])\n",
    "\n",
    "def mape(train,test):\n",
    "    result = (abs(train-test)/train).mean()\n",
    "    return result\n",
    "\n",
    "def load_vissim_data():\n",
    "    df1 = pd.DataFrame()\n",
    "    df2 = pd.DataFrame()\n",
    "    for j in range(1,len(Vissim.Net.DataCollectionMeasurements.GetAll())+1):\n",
    "        temp1 = []\n",
    "        temp2 = []\n",
    "        for i in range(1,43):\n",
    "            i = str(i)\n",
    "            a = Vissim.Net.DataCollectionMeasurements.ItemByKey(j).AttValue(\"Vehs(Current,%s,All)\"%i)\n",
    "            b = Vissim.Net.DataCollectionMeasurements.ItemByKey(j).AttValue(\"SpeedAvgArith(Current,%s,All)\"%i)\n",
    "            if b != None:\n",
    "                b = round(b,2)\n",
    "            temp1.append(a)\n",
    "            temp2.append(b)\n",
    "        df1[j] = temp1\n",
    "        df2[j] = temp2\n",
    "    return df1, df2\n"
   ]
  },
  {
   "cell_type": "code",
   "execution_count": null,
   "metadata": {},
   "outputs": [],
   "source": [
    "def pull_stats(population, iteration=1):\n",
    "    fitnesses = [ individual.fitness.values[0] for individual in population ]\n",
    "    return {\n",
    "        'i': iteration,\n",
    "        'mu': np.mean(fitnesses),\n",
    "        'std': np.std(fitnesses),\n",
    "        'max': np.max(fitnesses),\n",
    "        'min': np.min(fitnesses)\n",
    "    }"
   ]
  },
  {
   "cell_type": "markdown",
   "metadata": {},
   "source": [
    "# GA"
   ]
  },
  {
   "cell_type": "code",
   "execution_count": null,
   "metadata": {},
   "outputs": [],
   "source": [
    "#載入路網\n",
    "Net_path = '請自行設定'\n",
    "Vissim = com.Dispatch(\"Vissim.Vissim\") \n",
    "Vissim.LoadNet(r\"Net_path\")"
   ]
  },
  {
   "cell_type": "code",
   "execution_count": null,
   "metadata": {},
   "outputs": [],
   "source": [
    "#定義問題\n",
    "creator.create('FitnessMin', base.Fitness, weights=(-1.0,))\n",
    "creator.create(\"Individual\", list, fitness=creator.FitnessMin)"
   ]
  },
  {
   "cell_type": "code",
   "execution_count": null,
   "metadata": {},
   "outputs": [],
   "source": [
    "#using self-defined initial solution\n",
    "toolbox.register(\"population\", load_individuals,  creator.Individual)\n",
    "#set fitness\n",
    "toolbox.register(\"evaluate\", evaluate)\n",
    "#選擇\n",
    "toolbox.register(\"select\", tools.selTournament, tournsize=2)\n",
    "#交配\n",
    "toolbox.register(\"mate\", tools.cxUniform)\n",
    "#突變\n",
    "toolbox.register(\"mutate\", mutUniform, \n",
    "                 L=[0.5,2.4,0,0, \\\n",
    "                    0.5,2.3,0,0, \\\n",
    "                    0.5,1.8,0,0],\n",
    "                 U=[3,2.6,5,1, \\\n",
    "                    3,2.5,5,1,\\\n",
    "                    3,2.5,5,1], indpb=0.08)"
   ]
  },
  {
   "cell_type": "code",
   "execution_count": null,
   "metadata": {},
   "outputs": [],
   "source": [
    "stats = []"
   ]
  },
  {
   "cell_type": "code",
   "execution_count": null,
   "metadata": {},
   "outputs": [],
   "source": [
    "random.seed(64)\n",
    "# CXPB  is the probability with which two individuals are crossed\n",
    "# MUTPB is the probability for mutating an individual\n",
    "CXPB, MUTPB = 0.8, 0.08\n",
    "#設定起始解，拉丁方格抽樣績效最優的前10組參數\n",
    "inparam = [\n",
    "            [0.61, 2.58, 2.14, 0.28, 1.67, 2.55, 1.84, 0.50, 1.60, 2.39, 2.46, 0.08],\n",
    "            [1.83, 2.40, 2.95, 0.16, 1.75, 2.50, 3.29, 0.81, 2.39, 2.49, 3.11, 0.51],\n",
    "            [1.08, 2.54, 5.03, 0.65, 2.20, 2.52, 4.97, 0.77, 1.15, 2.20, 4.37, 0.64],\n",
    "            [0.85, 2.47, 2.93, 0.71, 1.10, 2.53, 1.78, 0.97, 2.48, 2.30, 4.08, 0.37],\n",
    "            [0.72, 2.51, 5.07, 0.96, 1.12, 2.48, 5.18, 0.79, 0.93, 1.95, 4.31, 0.03],\n",
    "            [1.19, 2.48, 4.76, 0.66, 2.39, 2.33, 4.63, 0.98, 1.20, 2.47, 4.73, 0.35],\n",
    "            [0.51, 2.32, 5.75, 0.94, 2.87, 2.56, 5.79, 0.75, 2.44, 2.29, 2.30, 0.19],\n",
    "            [0.56, 2.37, 4.90, 0.38, 2.17, 2.59, 3.67, 0.86, 2.67, 2.36, 4.98, 0.67],\n",
    "            [0.58, 2.51, 3.87, 0.18, 1.58, 2.58, 3.57, 0.78, 1.98, 1.97, 5.62, 0.68],\n",
    "            [0.68, 2.53, 4.70, 0.19, 1.91, 2.53, 0.69, 0.82, 1.80, 2.44, 0.53, 0.82]]\n",
    "pop = toolbox.population(inparam)\n",
    "\n",
    "# Evaluate the initial population\n",
    "fitnesses = [ (f,) for f in pd.read_csv(\"ga_initial_fitness.csv\", index_col=0)['speed mape mean'].round(2).to_list()]\n",
    "for ind, fit in zip(pop, fitnesses):\n",
    "    ind.fitness.values = fit\n",
    "\n",
    "# Extracting all the fitnesses of \n",
    "fits = [ind.fitness.values[0] for ind in pop]\n",
    "\n",
    "# Variable keeping track of the number of generations\n",
    "g = 0\n",
    "terminal = min(fits)"
   ]
  },
  {
   "cell_type": "code",
   "execution_count": null,
   "metadata": {},
   "outputs": [],
   "source": [
    "# Begin the evolution\n",
    "# 演化50回合，若在50回合內MAPE績效收斂至15%以下也會停止\n",
    "while g < 50 and terminal > 15:\n",
    "    # A new generation\n",
    "    g = g + 1\n",
    "    print(\"-- Generation %i --\" % g)\n",
    "    \n",
    "    # Select the next generation individuals\n",
    "    offspring = toolbox.select(pop, 5)\n",
    "    # Clone the selected individuals\n",
    "    offspring = list(map(toolbox.clone, offspring))\n",
    "\n",
    "    # Apply crossover on the offspring\n",
    "    for child1, child2 in zip(offspring[::2], offspring[1::2]):\n",
    "        toolbox.mate(child1, child2, CXPB)\n",
    "        del child1.fitness.values\n",
    "        del child2.fitness.values\n",
    "    # Apply mutation on the offspring\n",
    "    for mutant in offspring:\n",
    "        toolbox.mutate(mutant)\n",
    "        del mutant.fitness.values\n",
    "        \n",
    "    # Evaluate the individuals with an invalid fitness\n",
    "    invalid_ind = [ind for ind in offspring if not ind.fitness.valid]\n",
    "    \n",
    "    # Input new parameter into vissim\n",
    "    # Using evaluate function to activate vissim simulation\n",
    "    # load new fitness\n",
    "    fitnesses = map(toolbox.evaluate, invalid_ind,pop,fits)\n",
    "    for ind, fit in zip(invalid_ind, fitnesses):\n",
    "        ind.fitness.values = fit\n",
    "    \n",
    "    # Replace the old population by the offspring\n",
    "    pop = [pop[i] for i in list(np.argsort(fits))]#sort population\n",
    "    pop[5:] = offspring #replace the last five individual\n",
    "    for ind in pop:print(ind)\n",
    "    \n",
    "    # Gather all the fitnesses in one list and print the stats\n",
    "    fits = [ind.fitness.values[0] for ind in pop]\n",
    "\n",
    "    #print(min(fits), max(fits), mean, std)\n",
    "    stats.append(pull_stats(pop,g))\n",
    "    with open('param_history.csv', 'a', newline='') as csvfile:\n",
    "        # 定義欄位\n",
    "        colname = ['iteration', 'fCC0', 'fCC1', 'fCC2', 'fCC7', 'mCC0', 'mCC1', 'mCC2', 'mCC7', 'eCC0', 'eCC1', 'eCC2', 'eCC7', 'fitness']\n",
    "        # 將 dictionary 寫入 CSV 檔\n",
    "        writer = csv.DictWriter(csvfile, fieldnames=colname)\n",
    "        # 寫入第一列的欄位名稱\n",
    "        writer.writeheader()\n",
    "        for ind in pop:\n",
    "            temp = [i for i in ind]\n",
    "            temp.insert(0,g)\n",
    "            temp.append(ind.fitness.values[0])\n",
    "            writer.writerow({k:i for k, i in zip(colname, temp)})\n",
    "    \n",
    "    length = len(pop)\n",
    "    mean = sum(fits) / length\n",
    "    print(\"  Avg %s\" % mean)\n",
    "    print(\"  Min %s\" % min(fits))\n",
    "    best = pop[np.argmin([ind.fitness.values[0] for ind in pop])]\n",
    "    terminal = best.fitness.values[0]"
   ]
  },
  {
   "cell_type": "code",
   "execution_count": null,
   "metadata": {},
   "outputs": [],
   "source": [
    "stats"
   ]
  },
  {
   "cell_type": "code",
   "execution_count": null,
   "metadata": {},
   "outputs": [],
   "source": [
    "sns.set()\n",
    "_ = plt.plot(range(1, len(stats)+1), [ s for s in stats['mu'] ], marker='.')\n",
    "_ = plt.plot(range(1, len(stats)+1), [ s for s in stats['min'] ], marker='.')\n",
    "_ = plt.title('Average & Minimum Fitness per Iteration')\n",
    "_ = plt.xlabel('Iterations')\n",
    "_ = plt.ylabel('Mape (%)')\n",
    "_ = plt.legend(labels=['average mape value', 'min mape value'])\n",
    "plt.show()"
   ]
  }
 ],
 "metadata": {
  "kernelspec": {
   "display_name": "Python 3",
   "language": "python",
   "name": "python3"
  },
  "language_info": {
   "codemirror_mode": {
    "name": "ipython",
    "version": 3
   },
   "file_extension": ".py",
   "mimetype": "text/x-python",
   "name": "python",
   "nbconvert_exporter": "python",
   "pygments_lexer": "ipython3",
   "version": "3.7.6"
  }
 },
 "nbformat": 4,
 "nbformat_minor": 4
}