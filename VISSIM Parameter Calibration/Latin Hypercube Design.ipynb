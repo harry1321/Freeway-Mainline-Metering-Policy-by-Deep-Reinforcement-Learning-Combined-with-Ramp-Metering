{
 "cells": [
  {
   "cell_type": "markdown",
   "metadata": {},
   "source": [
    "# Latin Hypercube Design 拉丁方格抽樣"
   ]
  },
  {
   "cell_type": "code",
   "execution_count": null,
   "metadata": {},
   "outputs": [],
   "source": [
    "import random\n",
    "import csv\n",
    "from pyDOE import *\n",
    "from scipy.stats import uniform\n",
    "\n",
    "import pandas as pd\n",
    "import numpy as np\n",
    "\n",
    "#Vissim\n",
    "import win32com.client as com\n",
    "import os"
   ]
  },
  {
   "cell_type": "code",
   "execution_count": null,
   "metadata": {},
   "outputs": [],
   "source": [
    "design = lhs(12, samples=200)\n",
    "#針對CC0、CC1、CC2、CC7進行參數校估\n",
    "#共有3個分段需要較估\n",
    "#上下界設定可自行調整，可參考江宜穎「高速公路壅塞模擬與主線速率漸變控制模式之研究」，國立台灣大學土木工程學研究所交通組碩士論文，民國102年。\n",
    "#上下界=[CC0、CC1、CC2、CC7,\\ 第一段\n",
    "#       CC0、CC1、CC2、CC7,\\ 第二段\n",
    "#       CC0、CC1、CC2、CC7]  第三段\n",
    "#抽樣下界\n",
    " L=[0.5,2.3,0,0,\\\n",
    "   0.5,2.2,0,0,\\\n",
    "   0.5,1.8,0,0]\n",
    "#抽樣上界\n",
    "U=[3,2.6,6,1,\\\n",
    "   3,2.6,6,1,\\\n",
    "   3,2.5,6,1]\n",
    "scale=np.array(U)-np.array(L)\n",
    "for i in range(12):\n",
    "    design[:,i] = uniform(loc=L[i], scale=scale[i]).ppf(design[:, i])\n",
    "design = pd.DataFrame(design)\n",
    "design = design.round(2)\n",
    "design"
   ]
  },
  {
   "cell_type": "code",
   "execution_count": null,
   "metadata": {},
   "outputs": [],
   "source": [
    "#設定檔案路徑\n",
    "path='請自行設定'"
   ]
  },
  {
   "cell_type": "code",
   "execution_count": null,
   "metadata": {},
   "outputs": [],
   "source": [
    "design.to_csv(path+r\"LHD.csv\",index=False)"
   ]
  },
  {
   "cell_type": "code",
   "execution_count": null,
   "metadata": {},
   "outputs": [],
   "source": [
    "design=pd.read_csv(path+r\"LHD.csv\")\n",
    "design"
   ]
  },
  {
   "cell_type": "code",
   "execution_count": null,
   "metadata": {},
   "outputs": [],
   "source": [
    "#參數抽樣完成後，進行VISSIM模擬，並計算各組參數MAPE\n",
    "F = pd.read_csv(path+r\"流量資料\")\n",
    "S = pd.read_csv(path+r\"速率資料\")\n",
    "for i in range(design.shape[0]):\n",
    "    ind = design.loc[i,:].to_list()\n",
    "    reset_driving_behavior(ind)\n",
    "    # run simulation\n",
    "    # Activate QuickMode:\n",
    "    Vissim.Graphics.CurrentNetworkWindow.SetAttValue(\"QuickMode\",1)\n",
    "    Vissim.Simulation.RunContinuous()\n",
    "\n",
    "    f, s = load_vissim_data()\n",
    "    f.columns = F.columns\n",
    "    s.columns = S.columns\n",
    "    F_mean = round(mape(F.iloc[:,0:20],f.iloc[:,0:20]).mean(),4)*100\n",
    "    S_mean = round(mape(S.iloc[:,0:20],s.iloc[:,0:20]).mean(),4)*100\n",
    "    with open(r\"C:\\Users\\hyang\\Desktop\\HYANG\\vissim com\\LHD\\exp4\\LHD_history.csv\", 'a', newline='') as csvfile:\n",
    "        # 定義欄位\n",
    "        colname = ['fCC0', 'fCC1', 'fCC2', 'fCC7', 'mCC0', 'mCC1', 'mCC2', 'mCC7', 'eCC0', 'eCC1', 'eCC2', 'eCC7', 'fmape', 'smape']\n",
    "        # 將 dictionary 寫入 CSV 檔\n",
    "        writer = csv.DictWriter(csvfile, fieldnames=colname)\n",
    "        # 寫入第一列的欄位名稱\n",
    "        #writer.writeheader()\n",
    "        temp = ind\n",
    "        temp.append(F_mean)\n",
    "        temp.append(S_mean)\n",
    "        writer.writerow({k:i for k, i in zip(colname, temp)})"
   ]
  },
  {
   "cell_type": "code",
   "execution_count": null,
   "metadata": {},
   "outputs": [],
   "source": [
    "#存檔並選出績效最好的前10組參數\n",
    "LHD_result = pd.read_csv(path+r\"LHD_history.csv\")\n",
    "LHD_result = LHD_result.sort_values(by='smape')\n",
    "LHD_result.head(10)"
   ]
  }
 ],
 "metadata": {
  "kernelspec": {
   "display_name": "Python 3",
   "language": "python",
   "name": "python3"
  },
  "language_info": {
   "codemirror_mode": {
    "name": "ipython",
    "version": 3
   },
   "file_extension": ".py",
   "mimetype": "text/x-python",
   "name": "python",
   "nbconvert_exporter": "python",
   "pygments_lexer": "ipython3",
   "version": "3.7.6"
  }
 },
 "nbformat": 4,
 "nbformat_minor": 4
}
